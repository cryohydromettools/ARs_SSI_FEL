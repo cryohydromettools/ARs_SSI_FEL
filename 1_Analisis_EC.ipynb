{
 "cells": [
  {
   "cell_type": "code",
   "execution_count": 11,
   "metadata": {},
   "outputs": [],
   "source": [
    "import pandas as pd\n",
    "from datetime import datetime"
   ]
  },
  {
   "cell_type": "code",
   "execution_count": 12,
   "metadata": {},
   "outputs": [
    {
     "data": {
      "text/html": [
       "<div>\n",
       "<style scoped>\n",
       "    .dataframe tbody tr th:only-of-type {\n",
       "        vertical-align: middle;\n",
       "    }\n",
       "\n",
       "    .dataframe tbody tr th {\n",
       "        vertical-align: top;\n",
       "    }\n",
       "\n",
       "    .dataframe thead th {\n",
       "        text-align: right;\n",
       "    }\n",
       "</style>\n",
       "<table border=\"1\" class=\"dataframe\">\n",
       "  <thead>\n",
       "    <tr style=\"text-align: right;\">\n",
       "      <th></th>\n",
       "      <th>Dia</th>\n",
       "      <th>Mes</th>\n",
       "      <th>Año</th>\n",
       "      <th>Hora</th>\n",
       "      <th>BCAA_T</th>\n",
       "      <th>FREI_T</th>\n",
       "      <th>KOREA_T</th>\n",
       "    </tr>\n",
       "  </thead>\n",
       "  <tbody>\n",
       "    <tr>\n",
       "      <th>0</th>\n",
       "      <td>23</td>\n",
       "      <td>2</td>\n",
       "      <td>1999</td>\n",
       "      <td>0</td>\n",
       "      <td>4.40</td>\n",
       "      <td>4.3</td>\n",
       "      <td>5.5</td>\n",
       "    </tr>\n",
       "    <tr>\n",
       "      <th>1</th>\n",
       "      <td>23</td>\n",
       "      <td>2</td>\n",
       "      <td>1999</td>\n",
       "      <td>6</td>\n",
       "      <td>3.30</td>\n",
       "      <td>2.2</td>\n",
       "      <td>3.2</td>\n",
       "    </tr>\n",
       "    <tr>\n",
       "      <th>2</th>\n",
       "      <td>23</td>\n",
       "      <td>2</td>\n",
       "      <td>1999</td>\n",
       "      <td>12</td>\n",
       "      <td>3.30</td>\n",
       "      <td>2.1</td>\n",
       "      <td>3.6</td>\n",
       "    </tr>\n",
       "    <tr>\n",
       "      <th>3</th>\n",
       "      <td>23</td>\n",
       "      <td>2</td>\n",
       "      <td>1999</td>\n",
       "      <td>18</td>\n",
       "      <td>5.00</td>\n",
       "      <td>2.9</td>\n",
       "      <td>3.6</td>\n",
       "    </tr>\n",
       "    <tr>\n",
       "      <th>4</th>\n",
       "      <td>24</td>\n",
       "      <td>2</td>\n",
       "      <td>1999</td>\n",
       "      <td>0</td>\n",
       "      <td>2.80</td>\n",
       "      <td>2.5</td>\n",
       "      <td>2.6</td>\n",
       "    </tr>\n",
       "    <tr>\n",
       "      <th>...</th>\n",
       "      <td>...</td>\n",
       "      <td>...</td>\n",
       "      <td>...</td>\n",
       "      <td>...</td>\n",
       "      <td>...</td>\n",
       "      <td>...</td>\n",
       "      <td>...</td>\n",
       "    </tr>\n",
       "    <tr>\n",
       "      <th>439</th>\n",
       "      <td>9</td>\n",
       "      <td>8</td>\n",
       "      <td>2005</td>\n",
       "      <td>18</td>\n",
       "      <td>-0.40</td>\n",
       "      <td>-0.3</td>\n",
       "      <td>-1.0</td>\n",
       "    </tr>\n",
       "    <tr>\n",
       "      <th>440</th>\n",
       "      <td>10</td>\n",
       "      <td>8</td>\n",
       "      <td>2005</td>\n",
       "      <td>0</td>\n",
       "      <td>-0.35</td>\n",
       "      <td>0.1</td>\n",
       "      <td>-0.8</td>\n",
       "    </tr>\n",
       "    <tr>\n",
       "      <th>441</th>\n",
       "      <td>10</td>\n",
       "      <td>8</td>\n",
       "      <td>2005</td>\n",
       "      <td>6</td>\n",
       "      <td>-1.00</td>\n",
       "      <td>-0.8</td>\n",
       "      <td>-1.6</td>\n",
       "    </tr>\n",
       "    <tr>\n",
       "      <th>442</th>\n",
       "      <td>10</td>\n",
       "      <td>8</td>\n",
       "      <td>2005</td>\n",
       "      <td>12</td>\n",
       "      <td>-0.20</td>\n",
       "      <td>-1.0</td>\n",
       "      <td>0.7</td>\n",
       "    </tr>\n",
       "    <tr>\n",
       "      <th>443</th>\n",
       "      <td>10</td>\n",
       "      <td>8</td>\n",
       "      <td>2005</td>\n",
       "      <td>18</td>\n",
       "      <td>-0.70</td>\n",
       "      <td>-1.2</td>\n",
       "      <td>-1.0</td>\n",
       "    </tr>\n",
       "  </tbody>\n",
       "</table>\n",
       "<p>444 rows × 7 columns</p>\n",
       "</div>"
      ],
      "text/plain": [
       "     Dia  Mes   Año  Hora  BCAA_T  FREI_T  KOREA_T\n",
       "0     23    2  1999     0    4.40     4.3      5.5\n",
       "1     23    2  1999     6    3.30     2.2      3.2\n",
       "2     23    2  1999    12    3.30     2.1      3.6\n",
       "3     23    2  1999    18    5.00     2.9      3.6\n",
       "4     24    2  1999     0    2.80     2.5      2.6\n",
       "..   ...  ...   ...   ...     ...     ...      ...\n",
       "439    9    8  2005    18   -0.40    -0.3     -1.0\n",
       "440   10    8  2005     0   -0.35     0.1     -0.8\n",
       "441   10    8  2005     6   -1.00    -0.8     -1.6\n",
       "442   10    8  2005    12   -0.20    -1.0      0.7\n",
       "443   10    8  2005    18   -0.70    -1.2     -1.0\n",
       "\n",
       "[444 rows x 7 columns]"
      ]
     },
     "execution_count": 12,
     "metadata": {},
     "output_type": "execute_result"
    }
   ],
   "source": [
    "df = pd.read_csv('./data/Temperatura_EC.txt', sep='\\t')\n",
    "df"
   ]
  },
  {
   "cell_type": "code",
   "execution_count": 13,
   "metadata": {},
   "outputs": [],
   "source": [
    "datetime_for = []\n",
    "for i in df.index:\n",
    "    datetime_for.append(datetime(df['Año'][i], df['Mes'][i], df['Dia'][i], df['Hora'][i], 0))\n",
    "    "
   ]
  },
  {
   "cell_type": "code",
   "execution_count": 14,
   "metadata": {},
   "outputs": [],
   "source": [
    "df.index = datetime_for"
   ]
  },
  {
   "cell_type": "code",
   "execution_count": 15,
   "metadata": {},
   "outputs": [],
   "source": [
    "df_day = df[['BCAA_T', 'FREI_T', 'KOREA_T']].resample('1d').mean().dropna()"
   ]
  },
  {
   "cell_type": "code",
   "execution_count": 16,
   "metadata": {},
   "outputs": [
    {
     "data": {
      "text/html": [
       "<div>\n",
       "<style scoped>\n",
       "    .dataframe tbody tr th:only-of-type {\n",
       "        vertical-align: middle;\n",
       "    }\n",
       "\n",
       "    .dataframe tbody tr th {\n",
       "        vertical-align: top;\n",
       "    }\n",
       "\n",
       "    .dataframe thead th {\n",
       "        text-align: right;\n",
       "    }\n",
       "</style>\n",
       "<table border=\"1\" class=\"dataframe\">\n",
       "  <thead>\n",
       "    <tr style=\"text-align: right;\">\n",
       "      <th></th>\n",
       "      <th>BCAA_T</th>\n",
       "      <th>FREI_T</th>\n",
       "      <th>KOREA_T</th>\n",
       "    </tr>\n",
       "    <tr>\n",
       "      <th>date</th>\n",
       "      <th></th>\n",
       "      <th></th>\n",
       "      <th></th>\n",
       "    </tr>\n",
       "  </thead>\n",
       "  <tbody>\n",
       "    <tr>\n",
       "      <th>1999-02-23</th>\n",
       "      <td>4.0000</td>\n",
       "      <td>2.875</td>\n",
       "      <td>3.975</td>\n",
       "    </tr>\n",
       "    <tr>\n",
       "      <th>1999-02-24</th>\n",
       "      <td>3.3125</td>\n",
       "      <td>2.575</td>\n",
       "      <td>3.800</td>\n",
       "    </tr>\n",
       "    <tr>\n",
       "      <th>1999-02-25</th>\n",
       "      <td>3.2000</td>\n",
       "      <td>2.175</td>\n",
       "      <td>3.700</td>\n",
       "    </tr>\n",
       "    <tr>\n",
       "      <th>1999-03-18</th>\n",
       "      <td>3.8750</td>\n",
       "      <td>2.575</td>\n",
       "      <td>3.400</td>\n",
       "    </tr>\n",
       "    <tr>\n",
       "      <th>1999-03-19</th>\n",
       "      <td>2.9750</td>\n",
       "      <td>2.200</td>\n",
       "      <td>3.750</td>\n",
       "    </tr>\n",
       "    <tr>\n",
       "      <th>...</th>\n",
       "      <td>...</td>\n",
       "      <td>...</td>\n",
       "      <td>...</td>\n",
       "    </tr>\n",
       "    <tr>\n",
       "      <th>2005-02-11</th>\n",
       "      <td>3.2500</td>\n",
       "      <td>3.250</td>\n",
       "      <td>3.050</td>\n",
       "    </tr>\n",
       "    <tr>\n",
       "      <th>2005-02-12</th>\n",
       "      <td>3.0750</td>\n",
       "      <td>3.200</td>\n",
       "      <td>2.500</td>\n",
       "    </tr>\n",
       "    <tr>\n",
       "      <th>2005-08-08</th>\n",
       "      <td>-0.6125</td>\n",
       "      <td>-0.725</td>\n",
       "      <td>-0.950</td>\n",
       "    </tr>\n",
       "    <tr>\n",
       "      <th>2005-08-09</th>\n",
       "      <td>-0.6250</td>\n",
       "      <td>-0.625</td>\n",
       "      <td>-0.875</td>\n",
       "    </tr>\n",
       "    <tr>\n",
       "      <th>2005-08-10</th>\n",
       "      <td>-0.5625</td>\n",
       "      <td>-0.725</td>\n",
       "      <td>-0.675</td>\n",
       "    </tr>\n",
       "  </tbody>\n",
       "</table>\n",
       "<p>111 rows × 3 columns</p>\n",
       "</div>"
      ],
      "text/plain": [
       "            BCAA_T  FREI_T  KOREA_T\n",
       "date                               \n",
       "1999-02-23  4.0000   2.875    3.975\n",
       "1999-02-24  3.3125   2.575    3.800\n",
       "1999-02-25  3.2000   2.175    3.700\n",
       "1999-03-18  3.8750   2.575    3.400\n",
       "1999-03-19  2.9750   2.200    3.750\n",
       "...            ...     ...      ...\n",
       "2005-02-11  3.2500   3.250    3.050\n",
       "2005-02-12  3.0750   3.200    2.500\n",
       "2005-08-08 -0.6125  -0.725   -0.950\n",
       "2005-08-09 -0.6250  -0.625   -0.875\n",
       "2005-08-10 -0.5625  -0.725   -0.675\n",
       "\n",
       "[111 rows x 3 columns]"
      ]
     },
     "execution_count": 16,
     "metadata": {},
     "output_type": "execute_result"
    }
   ],
   "source": [
    "df_day.index.name = 'date'\n",
    "df_day"
   ]
  },
  {
   "cell_type": "code",
   "execution_count": 17,
   "metadata": {},
   "outputs": [],
   "source": [
    "df_day.to_csv('data/EC_day.csv', sep='\\t')"
   ]
  },
  {
   "cell_type": "code",
   "execution_count": 18,
   "metadata": {},
   "outputs": [
    {
     "data": {
      "text/plain": [
       "111"
      ]
     },
     "execution_count": 18,
     "metadata": {},
     "output_type": "execute_result"
    }
   ],
   "source": [
    "len(df_day.index)"
   ]
  },
  {
   "cell_type": "code",
   "execution_count": 19,
   "metadata": {},
   "outputs": [
    {
     "data": {
      "text/plain": [
       "<Axes: xlabel='date'>"
      ]
     },
     "execution_count": 19,
     "metadata": {},
     "output_type": "execute_result"
    },
    {
     "data": {
      "image/png": "[encoded data removed]",
      "text/plain": [
       "<Figure size 640x480 with 1 Axes>"
      ]
     },
     "metadata": {},
     "output_type": "display_data"
    }
   ],
   "source": [
    "df_day.plot()"
   ]
  }
 ],
 "metadata": {
  "kernelspec": {
   "display_name": "mbm_env",
   "language": "python",
   "name": "mbm_env"
  }
 },
 "nbformat": 4,
 "nbformat_minor": 4
}
